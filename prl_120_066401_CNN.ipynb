{
 "cells": [
  {
   "cell_type": "code",
   "execution_count": 1,
   "metadata": {},
   "outputs": [
    {
     "name": "stderr",
     "output_type": "stream",
     "text": [
      "Using TensorFlow backend.\n"
     ]
    }
   ],
   "source": [
    "# TensorFlow and tf.keras\n",
    "import tensorflow as tf\n",
    "from tensorflow import keras\n",
    "# Helper libraries\n",
    "import numpy as np\n",
    "import matplotlib.pyplot as plt\n",
    "import scipy.io as sio\n",
    "from keras.models import Sequential\n",
    "from keras.layers.convolutional import Conv2D\n",
    "from keras.layers.convolutional import Conv1D\n",
    "from keras.layers.convolutional import activations\n",
    "from keras.layers.core import Dense\n",
    "from keras.layers.core import Flatten\n"
   ]
  },
  {
   "cell_type": "code",
   "execution_count": 2,
   "metadata": {},
   "outputs": [],
   "source": [
    "class_names_1 = ['-2', '-1', '0','1', '2']\n",
    "class_names_3 = ['-3','-2', '-1', '0','1', '2','3']"
   ]
  },
  {
   "cell_type": "code",
   "execution_count": 3,
   "metadata": {},
   "outputs": [],
   "source": [
    "temp = sio.loadmat('train_set.mat')\n",
    "train_set = temp['Wh']\n",
    "temp = sio.loadmat('train_label.mat')\n",
    "train_label = temp['W']\n",
    "temp = sio.loadmat('test_data_1.mat')\n",
    "test_set_1 = temp['Wh']\n",
    "temp = sio.loadmat('test_label_1.mat')\n",
    "test_label_1 = temp['W']\n",
    "\n",
    "temp = sio.loadmat('test_data_3.mat')\n",
    "test_set_3 = temp['Wh']\n",
    "temp = sio.loadmat('test_label_3.mat')\n",
    "test_label_3 = temp['W']"
   ]
  },
  {
   "cell_type": "code",
   "execution_count": 4,
   "metadata": {},
   "outputs": [],
   "source": [
    "train_label = train_label.flatten()"
   ]
  },
  {
   "cell_type": "code",
   "execution_count": 5,
   "metadata": {},
   "outputs": [
    {
     "data": {
      "text/plain": [
       "(100000, 2, 33)"
      ]
     },
     "execution_count": 5,
     "metadata": {},
     "output_type": "execute_result"
    }
   ],
   "source": [
    "train_set.shape"
   ]
  },
  {
   "cell_type": "code",
   "execution_count": 6,
   "metadata": {},
   "outputs": [
    {
     "data": {
      "text/plain": [
       "(10000, 2, 33)"
      ]
     },
     "execution_count": 6,
     "metadata": {},
     "output_type": "execute_result"
    }
   ],
   "source": [
    "test_set_1.shape"
   ]
  },
  {
   "cell_type": "code",
   "execution_count": 7,
   "metadata": {},
   "outputs": [],
   "source": [
    "test_label_1 = test_label_1.flatten()\n",
    "test_label_3 = test_label_3.flatten()\n"
   ]
  },
  {
   "cell_type": "code",
   "execution_count": 8,
   "metadata": {},
   "outputs": [],
   "source": [
    "x = train_set.reshape(100000,2,33,1)\n",
    "y = train_label"
   ]
  },
  {
   "cell_type": "code",
   "execution_count": 9,
   "metadata": {},
   "outputs": [
    {
     "data": {
      "text/plain": [
       "2.0"
      ]
     },
     "execution_count": 9,
     "metadata": {},
     "output_type": "execute_result"
    }
   ],
   "source": [
    "y[0]"
   ]
  },
  {
   "cell_type": "code",
   "execution_count": 10,
   "metadata": {},
   "outputs": [
    {
     "data": {
      "text/plain": [
       "array([37092, 16050, 59386, ..., 83646, 22128, 49297])"
      ]
     },
     "execution_count": 10,
     "metadata": {},
     "output_type": "execute_result"
    }
   ],
   "source": [
    "index = np.arange(100000)\n",
    "np.random.shuffle(index)\n",
    " \n",
    "X_train=x[index,:,:,:] #X_train是训练集，y_train是训练标签\n",
    "y_train=y[index]\n",
    "index"
   ]
  },
  {
   "cell_type": "code",
   "execution_count": 11,
   "metadata": {},
   "outputs": [
    {
     "data": {
      "text/plain": [
       "-1.0"
      ]
     },
     "execution_count": 11,
     "metadata": {},
     "output_type": "execute_result"
    }
   ],
   "source": [
    "y_train[0]"
   ]
  },
  {
   "cell_type": "code",
   "execution_count": 12,
   "metadata": {},
   "outputs": [],
   "source": [
    "model = Sequential()\n",
    "model.add(Conv2D(40,(2,2),strides=(1,1),padding='valid',activation=\"relu\",input_shape=(2,33,1)))\n",
    "model.add(Conv2D(1,(1,1),strides=1,padding='valid',activation=\"relu\",input_shape=(1,32)))\n",
    "model.add(Flatten())\n",
    "model.add(Dense(2,activation=\"relu\"))\n",
    "model.add(Dense(1,activation=\"linear\"))"
   ]
  },
  {
   "cell_type": "code",
   "execution_count": 13,
   "metadata": {},
   "outputs": [],
   "source": [
    "model.compile(optimizer=tf.train.AdamOptimizer(),loss='mean_squared_error',metrics=['accuracy'])"
   ]
  },
  {
   "cell_type": "code",
   "execution_count": 14,
   "metadata": {},
   "outputs": [
    {
     "name": "stdout",
     "output_type": "stream",
     "text": [
      "_________________________________________________________________\n",
      "Layer (type)                 Output Shape              Param #   \n",
      "=================================================================\n",
      "conv2d_1 (Conv2D)            (None, 1, 32, 40)         200       \n",
      "_________________________________________________________________\n",
      "conv2d_2 (Conv2D)            (None, 1, 32, 1)          41        \n",
      "_________________________________________________________________\n",
      "flatten_1 (Flatten)          (None, 32)                0         \n",
      "_________________________________________________________________\n",
      "dense_1 (Dense)              (None, 2)                 66        \n",
      "_________________________________________________________________\n",
      "dense_2 (Dense)              (None, 1)                 3         \n",
      "=================================================================\n",
      "Total params: 310\n",
      "Trainable params: 310\n",
      "Non-trainable params: 0\n",
      "_________________________________________________________________\n"
     ]
    }
   ],
   "source": [
    "model.summary()"
   ]
  },
  {
   "cell_type": "code",
   "execution_count": 15,
   "metadata": {},
   "outputs": [
    {
     "name": "stdout",
     "output_type": "stream",
     "text": [
      "Train on 90000 samples, validate on 10000 samples\n",
      "Epoch 1/100\n",
      "90000/90000 [==============================] - 3s 31us/step - loss: 0.4044 - acc: 0.6734 - val_loss: 0.0956 - val_acc: 0.8945\n",
      "Epoch 2/100\n",
      "90000/90000 [==============================] - 3s 31us/step - loss: 0.0864 - acc: 0.9166 - val_loss: 0.0827 - val_acc: 0.9233\n",
      "Epoch 3/100\n",
      "90000/90000 [==============================] - 3s 29us/step - loss: 0.0755 - acc: 0.9396 - val_loss: 0.0708 - val_acc: 0.9523\n",
      "Epoch 4/100\n",
      "90000/90000 [==============================] - 3s 31us/step - loss: 0.0707 - acc: 0.9488 - val_loss: 0.0778 - val_acc: 0.9198\n",
      "Epoch 5/100\n",
      "90000/90000 [==============================] - 3s 30us/step - loss: 0.0686 - acc: 0.9515 - val_loss: 0.0656 - val_acc: 0.9605\n",
      "Epoch 6/100\n",
      "90000/90000 [==============================] - 3s 29us/step - loss: 0.0673 - acc: 0.9520 - val_loss: 0.0677 - val_acc: 0.9504\n",
      "Epoch 7/100\n",
      "90000/90000 [==============================] - 3s 30us/step - loss: 0.0659 - acc: 0.9532 - val_loss: 0.0638 - val_acc: 0.9567\n",
      "Epoch 8/100\n",
      "90000/90000 [==============================] - 3s 30us/step - loss: 0.0650 - acc: 0.9528 - val_loss: 0.0642 - val_acc: 0.9544\n",
      "Epoch 9/100\n",
      "90000/90000 [==============================] - 3s 30us/step - loss: 0.0639 - acc: 0.9528 - val_loss: 0.0630 - val_acc: 0.9544\n",
      "Epoch 10/100\n",
      "90000/90000 [==============================] - 3s 30us/step - loss: 0.0639 - acc: 0.9512 - val_loss: 0.0637 - val_acc: 0.9494\n",
      "Epoch 11/100\n",
      "90000/90000 [==============================] - 3s 30us/step - loss: 0.0635 - acc: 0.9509 - val_loss: 0.0632 - val_acc: 0.9526\n",
      "Epoch 12/100\n",
      "90000/90000 [==============================] - 3s 30us/step - loss: 0.0629 - acc: 0.9527 - val_loss: 0.0622 - val_acc: 0.9534\n",
      "Epoch 13/100\n",
      "90000/90000 [==============================] - 3s 30us/step - loss: 0.0625 - acc: 0.9520 - val_loss: 0.0611 - val_acc: 0.9536\n",
      "Epoch 14/100\n",
      "90000/90000 [==============================] - 3s 30us/step - loss: 0.0623 - acc: 0.9514 - val_loss: 0.0626 - val_acc: 0.9505\n",
      "Epoch 15/100\n",
      "90000/90000 [==============================] - 3s 30us/step - loss: 0.0627 - acc: 0.9489 - val_loss: 0.0629 - val_acc: 0.9483\n",
      "Epoch 16/100\n",
      "90000/90000 [==============================] - 3s 30us/step - loss: 0.0622 - acc: 0.9508 - val_loss: 0.0668 - val_acc: 0.9376\n",
      "Epoch 17/100\n",
      "90000/90000 [==============================] - 3s 29us/step - loss: 0.0624 - acc: 0.9496 - val_loss: 0.0610 - val_acc: 0.9524\n",
      "Epoch 18/100\n",
      "90000/90000 [==============================] - 3s 30us/step - loss: 0.0622 - acc: 0.9491 - val_loss: 0.0614 - val_acc: 0.9526\n",
      "Epoch 19/100\n",
      "90000/90000 [==============================] - 3s 30us/step - loss: 0.0628 - acc: 0.9471 - val_loss: 0.0647 - val_acc: 0.9422\n",
      "Epoch 20/100\n",
      "90000/90000 [==============================] - 3s 29us/step - loss: 0.0620 - acc: 0.9494 - val_loss: 0.0670 - val_acc: 0.9389\n",
      "Epoch 21/100\n",
      "90000/90000 [==============================] - 3s 31us/step - loss: 0.0622 - acc: 0.9486 - val_loss: 0.0610 - val_acc: 0.9524\n",
      "Epoch 22/100\n",
      "90000/90000 [==============================] - 3s 33us/step - loss: 0.0625 - acc: 0.9486 - val_loss: 0.0601 - val_acc: 0.9520\n",
      "Epoch 23/100\n",
      "90000/90000 [==============================] - 3s 29us/step - loss: 0.0619 - acc: 0.9490 - val_loss: 0.0600 - val_acc: 0.9552\n",
      "Epoch 24/100\n",
      "90000/90000 [==============================] - 3s 30us/step - loss: 0.0618 - acc: 0.9487 - val_loss: 0.0611 - val_acc: 0.9502\n",
      "Epoch 25/100\n",
      "90000/90000 [==============================] - 3s 29us/step - loss: 0.0622 - acc: 0.9489 - val_loss: 0.0603 - val_acc: 0.9509\n",
      "Epoch 26/100\n",
      "90000/90000 [==============================] - 3s 28us/step - loss: 0.0616 - acc: 0.9490 - val_loss: 0.0598 - val_acc: 0.9504\n",
      "Epoch 27/100\n",
      "90000/90000 [==============================] - 3s 28us/step - loss: 0.0621 - acc: 0.9478 - val_loss: 0.0617 - val_acc: 0.9492\n",
      "Epoch 28/100\n",
      "90000/90000 [==============================] - 3s 28us/step - loss: 0.0619 - acc: 0.9479 - val_loss: 0.0611 - val_acc: 0.9490\n",
      "Epoch 29/100\n",
      "90000/90000 [==============================] - 3s 29us/step - loss: 0.0620 - acc: 0.9478 - val_loss: 0.0642 - val_acc: 0.9417\n",
      "Epoch 30/100\n",
      "90000/90000 [==============================] - 3s 28us/step - loss: 0.0616 - acc: 0.9481 - val_loss: 0.0618 - val_acc: 0.9480\n",
      "Epoch 31/100\n",
      "90000/90000 [==============================] - 3s 28us/step - loss: 0.0617 - acc: 0.9474 - val_loss: 0.0612 - val_acc: 0.9476\n",
      "Epoch 32/100\n",
      "90000/90000 [==============================] - 3s 28us/step - loss: 0.0623 - acc: 0.9471 - val_loss: 0.0612 - val_acc: 0.9478\n",
      "Epoch 33/100\n",
      "90000/90000 [==============================] - 3s 29us/step - loss: 0.0618 - acc: 0.9476 - val_loss: 0.0614 - val_acc: 0.9488\n",
      "Epoch 34/100\n",
      "90000/90000 [==============================] - 3s 30us/step - loss: 0.0614 - acc: 0.9475 - val_loss: 0.0597 - val_acc: 0.9510\n",
      "Epoch 35/100\n",
      "90000/90000 [==============================] - 3s 28us/step - loss: 0.0619 - acc: 0.9463 - val_loss: 0.0643 - val_acc: 0.9431\n",
      "Epoch 36/100\n",
      "90000/90000 [==============================] - 3s 30us/step - loss: 0.0613 - acc: 0.9481 - val_loss: 0.0636 - val_acc: 0.9434\n",
      "Epoch 37/100\n",
      "90000/90000 [==============================] - 3s 31us/step - loss: 0.0619 - acc: 0.9469 - val_loss: 0.0612 - val_acc: 0.9483\n",
      "Epoch 38/100\n",
      "90000/90000 [==============================] - 3s 29us/step - loss: 0.0619 - acc: 0.9464 - val_loss: 0.0596 - val_acc: 0.9529\n",
      "Epoch 39/100\n",
      "90000/90000 [==============================] - 3s 29us/step - loss: 0.0612 - acc: 0.9482 - val_loss: 0.0613 - val_acc: 0.9476\n",
      "Epoch 40/100\n",
      "90000/90000 [==============================] - 3s 30us/step - loss: 0.0612 - acc: 0.9481 - val_loss: 0.0626 - val_acc: 0.9445\n",
      "Epoch 41/100\n",
      "90000/90000 [==============================] - 3s 29us/step - loss: 0.0611 - acc: 0.9471 - val_loss: 0.0671 - val_acc: 0.9341\n",
      "Epoch 42/100\n",
      "90000/90000 [==============================] - 3s 29us/step - loss: 0.0620 - acc: 0.9459 - val_loss: 0.0635 - val_acc: 0.9418\n",
      "Epoch 43/100\n",
      "90000/90000 [==============================] - 3s 29us/step - loss: 0.0615 - acc: 0.9469 - val_loss: 0.0618 - val_acc: 0.9465\n",
      "Epoch 44/100\n",
      "90000/90000 [==============================] - 3s 29us/step - loss: 0.0612 - acc: 0.9477 - val_loss: 0.0619 - val_acc: 0.9454\n",
      "Epoch 45/100\n",
      "90000/90000 [==============================] - 3s 29us/step - loss: 0.0614 - acc: 0.9468 - val_loss: 0.0613 - val_acc: 0.9479\n",
      "Epoch 46/100\n",
      "90000/90000 [==============================] - 3s 29us/step - loss: 0.0620 - acc: 0.9460 - val_loss: 0.0651 - val_acc: 0.9371\n",
      "Epoch 47/100\n",
      "90000/90000 [==============================] - 3s 29us/step - loss: 0.0612 - acc: 0.9470 - val_loss: 0.0678 - val_acc: 0.9340\n",
      "Epoch 48/100\n",
      "90000/90000 [==============================] - 3s 29us/step - loss: 0.0618 - acc: 0.9455 - val_loss: 0.0720 - val_acc: 0.9272\n",
      "Epoch 49/100\n",
      "90000/90000 [==============================] - 3s 29us/step - loss: 0.0613 - acc: 0.9465 - val_loss: 0.0667 - val_acc: 0.9365\n",
      "Epoch 50/100\n",
      "90000/90000 [==============================] - 3s 29us/step - loss: 0.0614 - acc: 0.9477 - val_loss: 0.0594 - val_acc: 0.9495\n",
      "Epoch 51/100\n",
      "90000/90000 [==============================] - 3s 29us/step - loss: 0.0620 - acc: 0.9464 - val_loss: 0.0604 - val_acc: 0.9463\n",
      "Epoch 52/100\n",
      "90000/90000 [==============================] - 3s 29us/step - loss: 0.0609 - acc: 0.9474 - val_loss: 0.0599 - val_acc: 0.9476\n",
      "Epoch 53/100\n",
      "90000/90000 [==============================] - 3s 29us/step - loss: 0.0616 - acc: 0.9463 - val_loss: 0.0595 - val_acc: 0.9491\n",
      "Epoch 54/100\n",
      "90000/90000 [==============================] - 3s 29us/step - loss: 0.0611 - acc: 0.9475 - val_loss: 0.0607 - val_acc: 0.9432\n",
      "Epoch 55/100\n",
      "90000/90000 [==============================] - 3s 30us/step - loss: 0.0611 - acc: 0.9466 - val_loss: 0.0664 - val_acc: 0.9363\n",
      "Epoch 56/100\n",
      "90000/90000 [==============================] - 3s 30us/step - loss: 0.0612 - acc: 0.9460 - val_loss: 0.0599 - val_acc: 0.9467\n",
      "Epoch 57/100\n",
      "90000/90000 [==============================] - 3s 29us/step - loss: 0.0613 - acc: 0.9466 - val_loss: 0.0676 - val_acc: 0.9337\n",
      "Epoch 58/100\n",
      "90000/90000 [==============================] - 3s 29us/step - loss: 0.0613 - acc: 0.9458 - val_loss: 0.0647 - val_acc: 0.9387\n",
      "Epoch 59/100\n"
     ]
    },
    {
     "name": "stdout",
     "output_type": "stream",
     "text": [
      "90000/90000 [==============================] - 2s 27us/step - loss: 0.0610 - acc: 0.9467 - val_loss: 0.0692 - val_acc: 0.9325\n",
      "Epoch 60/100\n",
      "90000/90000 [==============================] - 2s 27us/step - loss: 0.0611 - acc: 0.9458 - val_loss: 0.0594 - val_acc: 0.9483\n",
      "Epoch 61/100\n",
      "90000/90000 [==============================] - 2s 28us/step - loss: 0.0611 - acc: 0.9458 - val_loss: 0.0593 - val_acc: 0.9491\n",
      "Epoch 62/100\n",
      "90000/90000 [==============================] - 2s 28us/step - loss: 0.0613 - acc: 0.9455 - val_loss: 0.0628 - val_acc: 0.9419\n",
      "Epoch 63/100\n",
      "90000/90000 [==============================] - 2s 27us/step - loss: 0.0610 - acc: 0.9459 - val_loss: 0.0635 - val_acc: 0.9407\n",
      "Epoch 64/100\n",
      "90000/90000 [==============================] - 2s 27us/step - loss: 0.0612 - acc: 0.9455 - val_loss: 0.0598 - val_acc: 0.9473\n",
      "Epoch 65/100\n",
      "90000/90000 [==============================] - 2s 27us/step - loss: 0.0611 - acc: 0.9462 - val_loss: 0.0608 - val_acc: 0.9468\n",
      "Epoch 66/100\n",
      "90000/90000 [==============================] - 2s 27us/step - loss: 0.0608 - acc: 0.9454 - val_loss: 0.0641 - val_acc: 0.9404\n",
      "Epoch 67/100\n",
      "90000/90000 [==============================] - 2s 28us/step - loss: 0.0615 - acc: 0.9451 - val_loss: 0.0635 - val_acc: 0.9410\n",
      "Epoch 68/100\n",
      "90000/90000 [==============================] - 2s 28us/step - loss: 0.0612 - acc: 0.9454 - val_loss: 0.0622 - val_acc: 0.9442\n",
      "Epoch 69/100\n",
      "90000/90000 [==============================] - 2s 27us/step - loss: 0.0609 - acc: 0.9463 - val_loss: 0.0603 - val_acc: 0.9463\n",
      "Epoch 70/100\n",
      "90000/90000 [==============================] - 2s 28us/step - loss: 0.0615 - acc: 0.9448 - val_loss: 0.0623 - val_acc: 0.9429\n",
      "Epoch 71/100\n",
      "90000/90000 [==============================] - 2s 28us/step - loss: 0.0612 - acc: 0.9457 - val_loss: 0.0610 - val_acc: 0.9442\n",
      "Epoch 72/100\n",
      "90000/90000 [==============================] - 2s 27us/step - loss: 0.0611 - acc: 0.9450 - val_loss: 0.0607 - val_acc: 0.9440\n",
      "Epoch 73/100\n",
      "90000/90000 [==============================] - 2s 28us/step - loss: 0.0609 - acc: 0.9468 - val_loss: 0.0702 - val_acc: 0.9302\n",
      "Epoch 74/100\n",
      "90000/90000 [==============================] - 2s 27us/step - loss: 0.0611 - acc: 0.9456 - val_loss: 0.0600 - val_acc: 0.9469\n",
      "Epoch 75/100\n",
      "90000/90000 [==============================] - 2s 28us/step - loss: 0.0609 - acc: 0.9459 - val_loss: 0.0645 - val_acc: 0.9409\n",
      "Epoch 76/100\n",
      "90000/90000 [==============================] - 2s 28us/step - loss: 0.0617 - acc: 0.9442 - val_loss: 0.0612 - val_acc: 0.9426\n",
      "Epoch 77/100\n",
      "90000/90000 [==============================] - 2s 28us/step - loss: 0.0610 - acc: 0.9452 - val_loss: 0.0597 - val_acc: 0.9481\n",
      "Epoch 78/100\n",
      "90000/90000 [==============================] - 2s 28us/step - loss: 0.0608 - acc: 0.9464 - val_loss: 0.0601 - val_acc: 0.9477\n",
      "Epoch 79/100\n",
      "90000/90000 [==============================] - 2s 28us/step - loss: 0.0613 - acc: 0.9454 - val_loss: 0.0591 - val_acc: 0.9485\n",
      "Epoch 80/100\n",
      "90000/90000 [==============================] - 2s 28us/step - loss: 0.0609 - acc: 0.9461 - val_loss: 0.0589 - val_acc: 0.9490\n",
      "Epoch 81/100\n",
      "90000/90000 [==============================] - 2s 27us/step - loss: 0.0613 - acc: 0.9453 - val_loss: 0.0695 - val_acc: 0.9300\n",
      "Epoch 82/100\n",
      "90000/90000 [==============================] - 2s 28us/step - loss: 0.0611 - acc: 0.9458 - val_loss: 0.0594 - val_acc: 0.9495\n",
      "Epoch 83/100\n",
      "90000/90000 [==============================] - 3s 28us/step - loss: 0.0613 - acc: 0.9450 - val_loss: 0.0629 - val_acc: 0.9428\n",
      "Epoch 84/100\n",
      "90000/90000 [==============================] - 3s 28us/step - loss: 0.0609 - acc: 0.9454 - val_loss: 0.0597 - val_acc: 0.9444\n",
      "Epoch 85/100\n",
      "90000/90000 [==============================] - 2s 28us/step - loss: 0.0610 - acc: 0.9444 - val_loss: 0.0614 - val_acc: 0.9460\n",
      "Epoch 86/100\n",
      "90000/90000 [==============================] - 3s 28us/step - loss: 0.0614 - acc: 0.9449 - val_loss: 0.0590 - val_acc: 0.9479\n",
      "Epoch 87/100\n",
      "90000/90000 [==============================] - 3s 28us/step - loss: 0.0607 - acc: 0.9458 - val_loss: 0.0716 - val_acc: 0.9277\n",
      "Epoch 88/100\n",
      "90000/90000 [==============================] - 2s 28us/step - loss: 0.0610 - acc: 0.9450 - val_loss: 0.0596 - val_acc: 0.9446\n",
      "Epoch 89/100\n",
      "90000/90000 [==============================] - 3s 28us/step - loss: 0.0610 - acc: 0.9446 - val_loss: 0.0592 - val_acc: 0.9464\n",
      "Epoch 90/100\n",
      "90000/90000 [==============================] - 2s 28us/step - loss: 0.0610 - acc: 0.9447 - val_loss: 0.0593 - val_acc: 0.9473\n",
      "Epoch 91/100\n",
      "90000/90000 [==============================] - 2s 28us/step - loss: 0.0609 - acc: 0.9454 - val_loss: 0.0616 - val_acc: 0.9450\n",
      "Epoch 92/100\n",
      "90000/90000 [==============================] - 2s 28us/step - loss: 0.0610 - acc: 0.9452 - val_loss: 0.0615 - val_acc: 0.9447\n",
      "Epoch 93/100\n",
      "90000/90000 [==============================] - 2s 27us/step - loss: 0.0612 - acc: 0.9453 - val_loss: 0.0594 - val_acc: 0.9452\n",
      "Epoch 94/100\n",
      "90000/90000 [==============================] - 3s 28us/step - loss: 0.0607 - acc: 0.9455 - val_loss: 0.0632 - val_acc: 0.9401\n",
      "Epoch 95/100\n",
      "90000/90000 [==============================] - 2s 27us/step - loss: 0.0611 - acc: 0.9448 - val_loss: 0.0607 - val_acc: 0.9432\n",
      "Epoch 96/100\n",
      "90000/90000 [==============================] - 2s 28us/step - loss: 0.0608 - acc: 0.9440 - val_loss: 0.0621 - val_acc: 0.9392\n",
      "Epoch 97/100\n",
      "90000/90000 [==============================] - 3s 28us/step - loss: 0.0611 - acc: 0.9445 - val_loss: 0.0589 - val_acc: 0.9471\n",
      "Epoch 98/100\n",
      "90000/90000 [==============================] - 3s 28us/step - loss: 0.0609 - acc: 0.9448 - val_loss: 0.0677 - val_acc: 0.9333\n",
      "Epoch 99/100\n",
      "90000/90000 [==============================] - 3s 28us/step - loss: 0.0605 - acc: 0.9451 - val_loss: 0.0615 - val_acc: 0.9411\n",
      "Epoch 100/100\n",
      "90000/90000 [==============================] - 2s 28us/step - loss: 0.0608 - acc: 0.9453 - val_loss: 0.0595 - val_acc: 0.9493\n"
     ]
    },
    {
     "data": {
      "text/plain": [
       "<keras.callbacks.History at 0x7f816f482f60>"
      ]
     },
     "execution_count": 15,
     "metadata": {},
     "output_type": "execute_result"
    }
   ],
   "source": [
    "model.fit(X_train, y_train,batch_size=50,epochs=100,validation_split=0.1,shuffle=True)"
   ]
  },
  {
   "cell_type": "code",
   "execution_count": 16,
   "metadata": {},
   "outputs": [
    {
     "data": {
      "text/plain": [
       "(10000, 2, 33)"
      ]
     },
     "execution_count": 16,
     "metadata": {},
     "output_type": "execute_result"
    }
   ],
   "source": [
    "test_set_1.shape"
   ]
  },
  {
   "cell_type": "code",
   "execution_count": 17,
   "metadata": {},
   "outputs": [
    {
     "data": {
      "text/plain": [
       "(3000, 2, 33)"
      ]
     },
     "execution_count": 17,
     "metadata": {},
     "output_type": "execute_result"
    }
   ],
   "source": [
    "test_set_3.shape"
   ]
  },
  {
   "cell_type": "code",
   "execution_count": 18,
   "metadata": {},
   "outputs": [],
   "source": [
    "test_set_1 = test_set_1.reshape(10000,2,33,1)\n",
    "test_set_3 = test_set_3.reshape(3000,2,33,1)"
   ]
  },
  {
   "cell_type": "code",
   "execution_count": 19,
   "metadata": {},
   "outputs": [
    {
     "name": "stdout",
     "output_type": "stream",
     "text": [
      "10000/10000 [==============================] - 0s 20us/step\n",
      "Test accuracy: 0.9507\n"
     ]
    }
   ],
   "source": [
    "test_loss, test_acc = model.evaluate(test_set_1, test_label_1)\n",
    "print('Test accuracy:', test_acc)"
   ]
  },
  {
   "cell_type": "code",
   "execution_count": 20,
   "metadata": {},
   "outputs": [
    {
     "name": "stdout",
     "output_type": "stream",
     "text": [
      "3000/3000 [==============================] - 0s 26us/step\n",
      "Test accuracy: 0.9713333333333334\n"
     ]
    }
   ],
   "source": [
    "test_loss, test_acc = model.evaluate(test_set_3, test_label_3)\n",
    "print('Test accuracy:', test_acc)"
   ]
  },
  {
   "cell_type": "code",
   "execution_count": 22,
   "metadata": {},
   "outputs": [],
   "source": [
    "predictions_1 = model.predict(test_set_1)"
   ]
  },
  {
   "cell_type": "code",
   "execution_count": 23,
   "metadata": {},
   "outputs": [],
   "source": [
    "predictions_1 = predictions_1.flatten()"
   ]
  },
  {
   "cell_type": "code",
   "execution_count": 24,
   "metadata": {},
   "outputs": [
    {
     "data": {
      "text/plain": [
       "(10000,)"
      ]
     },
     "execution_count": 24,
     "metadata": {},
     "output_type": "execute_result"
    }
   ],
   "source": [
    "test_label_1.shape"
   ]
  },
  {
   "cell_type": "code",
   "execution_count": 25,
   "metadata": {},
   "outputs": [],
   "source": [
    "predictions_1 = np.rint(predictions_1)\n",
    "predictions_1 = predictions_1.astype(int)"
   ]
  },
  {
   "cell_type": "code",
   "execution_count": 26,
   "metadata": {},
   "outputs": [
    {
     "data": {
      "text/plain": [
       "-2"
      ]
     },
     "execution_count": 26,
     "metadata": {},
     "output_type": "execute_result"
    }
   ],
   "source": [
    "predictions_1[16]"
   ]
  },
  {
   "cell_type": "code",
   "execution_count": 27,
   "metadata": {},
   "outputs": [],
   "source": [
    "test_label_1 = test_label_1.astype(int)"
   ]
  },
  {
   "cell_type": "code",
   "execution_count": 28,
   "metadata": {},
   "outputs": [
    {
     "data": {
      "text/plain": [
       "-2"
      ]
     },
     "execution_count": 28,
     "metadata": {},
     "output_type": "execute_result"
    }
   ],
   "source": [
    "test_label_1[16]"
   ]
  },
  {
   "cell_type": "code",
   "execution_count": 29,
   "metadata": {},
   "outputs": [],
   "source": [
    "def plot_image_1(i, predictions_array, true_label, img):\n",
    "  predictions_array, true_label, img = predictions_array[i]+2, true_label[i]+2, img[i,:,:,0]\n",
    "  plt.grid(False)\n",
    "  plt.xticks([])\n",
    "  plt.yticks([])\n",
    "\n",
    "  plt.imshow(img, cmap=plt.cm.binary)\n",
    "\n",
    "  predicted_label = predictions_array\n",
    "  if predicted_label == true_label:\n",
    "    color = 'blue'\n",
    "  else:\n",
    "    color = 'red'\n",
    "\n",
    "  plt.xlabel(\"{} ({})\".format(class_names_1[predicted_label],\n",
    "                                class_names_1[true_label]),\n",
    "                                color=color)\n",
    "\n",
    "def plot_value_array_1(i, predictions_array, true_label):\n",
    "  predictions_array, true_label = predictions_array[i]+2, true_label[i]+2\n",
    "  plt.grid(False)\n",
    "  plt.xticks([])\n",
    "  plt.yticks([])\n",
    "  thisplot = plt.bar(range(5), 1, color=\"#777777\")\n",
    "  plt.ylim([0, 1])\n",
    "  predicted_label = predictions_array\n",
    "\n",
    "  thisplot[predicted_label].set_color('red')\n",
    "  thisplot[true_label].set_color('blue')\n",
    "\n",
    "def plot_image_3(i, predictions_array, true_label, img):\n",
    "  predictions_array, true_label, img = predictions_array[i]+3, true_label[i]+3, img[i,:,:,0]\n",
    "  plt.grid(False)\n",
    "  plt.xticks([])\n",
    "  plt.yticks([])\n",
    "\n",
    "  plt.imshow(img, cmap=plt.cm.binary)\n",
    "\n",
    "  predicted_label = predictions_array\n",
    "  if predicted_label == true_label:\n",
    "    color = 'blue'\n",
    "  else:\n",
    "    color = 'red'\n",
    "\n",
    "  plt.xlabel(\"{} ({})\".format(class_names_3[predicted_label],\n",
    "                                class_names_3[true_label]),\n",
    "                                color=color)\n",
    "\n",
    "def plot_value_array_3(i, predictions_array, true_label):\n",
    "  predictions_array, true_label = predictions_array[i]+3, true_label[i]+3\n",
    "  plt.grid(False)\n",
    "  plt.xticks([])\n",
    "  plt.yticks([])\n",
    "  thisplot = plt.bar(range(7), 1, color=\"#777777\")\n",
    "  plt.ylim([0, 1])\n",
    "  predicted_label = predictions_array\n",
    "\n",
    "  thisplot[predicted_label].set_color('red')\n",
    "  thisplot[true_label].set_color('blue')"
   ]
  },
  {
   "cell_type": "code",
   "execution_count": 30,
   "metadata": {},
   "outputs": [
    {
     "data": {
      "image/png": "[encoded data removed]",
      "text/plain": [
       "<Figure size 432x216 with 2 Axes>"
      ]
     },
     "metadata": {},
     "output_type": "display_data"
    }
   ],
   "source": [
    "i = 16\n",
    "plt.figure(figsize=(6,3))\n",
    "plt.subplot(1,2,1)\n",
    "plot_image_1(i, predictions_1, test_label_1, test_set_1)\n",
    "plt.subplot(1,2,2)\n",
    "plot_value_array_1(i, predictions_1,  test_label_1)"
   ]
  },
  {
   "cell_type": "code",
   "execution_count": 31,
   "metadata": {},
   "outputs": [
    {
     "data": {
      "image/png": "[encoded data removed]",
      "text/plain": [
       "<Figure size 864x720 with 30 Axes>"
      ]
     },
     "metadata": {},
     "output_type": "display_data"
    }
   ],
   "source": [
    "# Plot the first X test images, their predicted label, and the true label\n",
    "# Color correct predictions in blue, incorrect predictions in red\n",
    "num_rows = 5\n",
    "num_cols = 3\n",
    "num_images = num_rows*num_cols\n",
    "plt.figure(figsize=(2*2*num_cols, 2*num_rows))\n",
    "for i in range(num_images):\n",
    "  plt.subplot(num_rows, 2*num_cols, 2*i+1)\n",
    "  plot_image_3(i, predictions_1, test_label_1, test_set_1)\n",
    "  plt.subplot(num_rows, 2*num_cols, 2*i+2)\n",
    "  plot_value_array_3(i, predictions_1, test_label_1)"
   ]
  },
  {
   "cell_type": "code",
   "execution_count": 32,
   "metadata": {},
   "outputs": [],
   "source": [
    "predictions_3 = model.predict(test_set_3)"
   ]
  },
  {
   "cell_type": "code",
   "execution_count": 33,
   "metadata": {},
   "outputs": [],
   "source": [
    "predictions_3 = predictions_3.flatten()"
   ]
  },
  {
   "cell_type": "code",
   "execution_count": 34,
   "metadata": {},
   "outputs": [],
   "source": [
    "predictions_3 = np.rint(predictions_3)\n",
    "predictions_3 = predictions_3.astype(int)"
   ]
  },
  {
   "cell_type": "code",
   "execution_count": 35,
   "metadata": {},
   "outputs": [],
   "source": [
    "test_label_3 = test_label_3.astype(int)"
   ]
  },
  {
   "cell_type": "code",
   "execution_count": 36,
   "metadata": {},
   "outputs": [
    {
     "data": {
      "text/plain": [
       "3"
      ]
     },
     "execution_count": 36,
     "metadata": {},
     "output_type": "execute_result"
    }
   ],
   "source": [
    "predictions_3[4]"
   ]
  },
  {
   "cell_type": "code",
   "execution_count": 37,
   "metadata": {},
   "outputs": [
    {
     "data": {
      "text/plain": [
       "3"
      ]
     },
     "execution_count": 37,
     "metadata": {},
     "output_type": "execute_result"
    }
   ],
   "source": [
    "test_label_3[4]"
   ]
  },
  {
   "cell_type": "code",
   "execution_count": 38,
   "metadata": {},
   "outputs": [
    {
     "data": {
      "image/png": "[encoded data removed]",
      "text/plain": [
       "<Figure size 864x720 with 30 Axes>"
      ]
     },
     "metadata": {},
     "output_type": "display_data"
    }
   ],
   "source": [
    "# Plot the first X test images, their predicted label, and the true label\n",
    "# Color correct predictions in blue, incorrect predictions in red\n",
    "num_rows = 5\n",
    "num_cols = 3\n",
    "num_images = num_rows*num_cols\n",
    "plt.figure(figsize=(2*2*num_cols, 2*num_rows))\n",
    "for i in range(num_images):\n",
    "  plt.subplot(num_rows, 2*num_cols, 2*i+1)\n",
    "  plot_image_3(i, predictions_3, test_label_3, test_set_3)\n",
    "  plt.subplot(num_rows, 2*num_cols, 2*i+2)\n",
    "  plot_value_array_3(i, predictions_3, test_label_3)"
   ]
  },
  {
   "cell_type": "code",
   "execution_count": null,
   "metadata": {},
   "outputs": [],
   "source": []
  }
 ],
 "metadata": {
  "kernelspec": {
   "display_name": "Python 3",
   "language": "python",
   "name": "python3"
  },
  "language_info": {
   "codemirror_mode": {
    "name": "ipython",
    "version": 3
   },
   "file_extension": ".py",
   "mimetype": "text/x-python",
   "name": "python",
   "nbconvert_exporter": "python",
   "pygments_lexer": "ipython3",
   "version": "3.6.7"
  }
 },
 "nbformat": 4,
 "nbformat_minor": 2
}
